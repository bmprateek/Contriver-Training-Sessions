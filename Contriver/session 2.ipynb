{
 "cells": [
  {
   "cell_type": "code",
   "execution_count": 1,
   "metadata": {},
   "outputs": [
    {
     "name": "stdout",
     "output_type": "stream",
     "text": [
      "120\n"
     ]
    }
   ],
   "source": [
    "from math import *\n",
    "a = int(input(\"Enter a number\"))\n",
    "x = factorial(a)\n",
    "print(x)"
   ]
  },
  {
   "cell_type": "code",
   "execution_count": 8,
   "metadata": {},
   "outputs": [
    {
     "name": "stdout",
     "output_type": "stream",
     "text": [
      "qwe\n",
      "12\n",
      "12\n",
      "12.0\n"
     ]
    }
   ],
   "source": [
    "name = str(input(\"enter name \"))\n",
    "age = int(input(\"enter age \"))\n",
    "phone = int(input(\"enter phone no \"))\n",
    "salary = float(input(\"enter salary\"))\n",
    "print(name)\n",
    "print(age)\n",
    "print(phone)\n",
    "print(salary)"
   ]
  },
  {
   "attachments": {},
   "cell_type": "markdown",
   "metadata": {},
   "source": [
    "Conditional Statements"
   ]
  },
  {
   "cell_type": "code",
   "execution_count": 10,
   "metadata": {},
   "outputs": [
    {
     "ename": "SystemExit",
     "evalue": "not a number",
     "output_type": "error",
     "traceback": [
      "An exception has occurred, use %tb to see the full traceback.\n",
      "\u001b[1;31mSystemExit\u001b[0m\u001b[1;31m:\u001b[0m not a number\n"
     ]
    }
   ],
   "source": [
    "import sys\n",
    "i = 'qw'\n",
    "\n",
    "if(type(i)!=int):\n",
    "    sys.exit(\"not a number\")\n",
    "elif(i%2!=0):\n",
    "    print(\"odd\")\n",
    "else:\n",
    "    print(\"even\")\n",
    "    \n",
    "    \n"
   ]
  },
  {
   "cell_type": "code",
   "execution_count": 12,
   "metadata": {},
   "outputs": [
    {
     "name": "stdout",
     "output_type": "stream",
     "text": [
      "not eligible to vote\n"
     ]
    }
   ],
   "source": [
    "import sys\n",
    "age = int(input(\"enter age \"))\n",
    "if(age in range(1 , 100)):\n",
    "\n",
    "    if(age<18):\n",
    "        print(\"not eligible to vote\")\n",
    "    else:\n",
    "        print(\"eligible to vote\")\n",
    "else:\n",
    "    sys.exit(\"abnormal age\")\n"
   ]
  },
  {
   "cell_type": "code",
   "execution_count": 15,
   "metadata": {},
   "outputs": [
    {
     "name": "stdout",
     "output_type": "stream",
     "text": [
      "not divisible by any number  above\n"
     ]
    }
   ],
   "source": [
    "num = int(input(\"number \"))\n",
    "if(num%3 == 0):\n",
    "    print(\"divisible by 3\")\n",
    "elif(num%5 == 0):\n",
    "    print(\"divisible by 5\")\n",
    "elif(num%10 == 0):\n",
    "    print(\"divisible by 10\")\n",
    "else:\n",
    "    print(\"not divisible by any number  above\")"
   ]
  },
  {
   "cell_type": "code",
   "execution_count": 20,
   "metadata": {},
   "outputs": [
    {
     "name": "stdout",
     "output_type": "stream",
     "text": [
      "can't donate\n"
     ]
    }
   ],
   "source": [
    "age = int(input(\"enter a age \"))\n",
    "if(age > 21):\n",
    "    weight = float(input(\"enter a weight \"))\n",
    "    if(weight> 50):\n",
    "        print(\"donate\")\n",
    "    else:\n",
    "        print(\"can't donate\")\n",
    "else:\n",
    "    print(\"can't donate\")\n",
    "        "
   ]
  },
  {
   "cell_type": "code",
   "execution_count": 22,
   "metadata": {},
   "outputs": [
    {
     "name": "stdout",
     "output_type": "stream",
     "text": [
      "E\n"
     ]
    }
   ],
   "source": [
    "marks = int(input(\"enter marks\"))\n",
    "if(marks >= 90 and marks <=100):\n",
    "    print(\"S\")\n",
    "elif(marks >= 80 and marks <=89):\n",
    "    print(\"A\")\n",
    "elif(marks >= 70 and marks <=79):\n",
    "    print(\"B\")\n",
    "elif(marks >= 60 and marks <=69):\n",
    "    print(\"C\")\n",
    "elif(marks >= 50 and marks <=59):\n",
    "    print(\"D\")\n",
    "elif(marks >= 40 and marks <=49):\n",
    "    print(\"E\")\n",
    "else:\n",
    "    print(\"fail\")"
   ]
  },
  {
   "attachments": {},
   "cell_type": "markdown",
   "metadata": {},
   "source": [
    "Assignment"
   ]
  },
  {
   "cell_type": "code",
   "execution_count": 23,
   "metadata": {},
   "outputs": [
    {
     "name": "stdout",
     "output_type": "stream",
     "text": [
      "Beginner\n"
     ]
    }
   ],
   "source": [
    "marks = int(input(\"enter marks\"))\n",
    "if(marks == 100):\n",
    "    print(\"Advanced\")\n",
    "elif(marks > 70 and marks< 100):\n",
    "    print(\"Proficient\")\n",
    "elif(marks > 30 and marks< 70):\n",
    "    print(\"Intermediate\")\n",
    "else:\n",
    "    print(\"Beginner\")"
   ]
  },
  {
   "cell_type": "code",
   "execution_count": 25,
   "metadata": {},
   "outputs": [
    {
     "name": "stdout",
     "output_type": "stream",
     "text": [
      "15 is the largest\n"
     ]
    }
   ],
   "source": [
    "num1 = 12\n",
    "num2 = 10\n",
    "num3 = 15\n",
    "\n",
    "if(num1 > num2):\n",
    "    if(num1> num3):\n",
    "        print(str(num1) + \" is the largest\")\n",
    "    else:\n",
    "        print(str(num3) + \" is the largest\")\n",
    "else:\n",
    "    if(num2>num3):\n",
    "        print(str(num2) + \" is the largest\")\n",
    "    else:\n",
    "        print(str(num3) + \" is the largest\")"
   ]
  },
  {
   "cell_type": "code",
   "execution_count": 31,
   "metadata": {},
   "outputs": [
    {
     "name": "stdout",
     "output_type": "stream",
     "text": [
      "allowed\n"
     ]
    }
   ],
   "source": [
    "attended = 20\n",
    "classes = 30\n",
    "medicalCause = True\n",
    "per = attended/classes * 100\n",
    "if(per <75):\n",
    "    if(medicalCause):\n",
    "        if(per>=65):\n",
    "            print(\"allowed\")\n",
    "        else:\n",
    "            print(\"not allowed\")\n",
    "else:\n",
    "    print(\"allowed\")"
   ]
  },
  {
   "attachments": {},
   "cell_type": "markdown",
   "metadata": {},
   "source": [
    "Loops"
   ]
  },
  {
   "cell_type": "code",
   "execution_count": 32,
   "metadata": {},
   "outputs": [
    {
     "name": "stdout",
     "output_type": "stream",
     "text": [
      "1\n",
      "2\n",
      "3\n",
      "4\n",
      "5\n"
     ]
    }
   ],
   "source": [
    "i = 1\n",
    "n = 5\n",
    "while i <=n :\n",
    "    print(i)\n",
    "    i +=1"
   ]
  },
  {
   "cell_type": "code",
   "execution_count": null,
   "metadata": {},
   "outputs": [],
   "source": [
    "while(True):\n",
    "    print(1)"
   ]
  }
 ],
 "metadata": {
  "kernelspec": {
   "display_name": "Python 3",
   "language": "python",
   "name": "python3"
  },
  "language_info": {
   "codemirror_mode": {
    "name": "ipython",
    "version": 3
   },
   "file_extension": ".py",
   "mimetype": "text/x-python",
   "name": "python",
   "nbconvert_exporter": "python",
   "pygments_lexer": "ipython3",
   "version": "3.11.1"
  },
  "orig_nbformat": 4,
  "vscode": {
   "interpreter": {
    "hash": "8e9b982e80f18de49d8d2f94cb24489af2bcc1f5997f2210ea83dd922c69fa09"
   }
  }
 },
 "nbformat": 4,
 "nbformat_minor": 2
}
