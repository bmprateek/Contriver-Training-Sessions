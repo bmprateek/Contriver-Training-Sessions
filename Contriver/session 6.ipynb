{
 "cells": [
  {
   "cell_type": "code",
   "execution_count": 34,
   "metadata": {},
   "outputs": [
    {
     "name": "stdout",
     "output_type": "stream",
     "text": [
      "5\n"
     ]
    }
   ],
   "source": [
    "class myClass:\n",
    "    x =5\n",
    "p1 = myClass()\n",
    "print(p1.x)"
   ]
  },
  {
   "cell_type": "code",
   "execution_count": 35,
   "metadata": {},
   "outputs": [
    {
     "name": "stdout",
     "output_type": "stream",
     "text": [
      "pk\n",
      "32\n",
      "1234567890\n"
     ]
    }
   ],
   "source": [
    "class Person:\n",
    "    name=\"pk\"\n",
    "    age =32\n",
    "    phno = 1234567890\n",
    "p1 = Person()\n",
    "print(p1.name)\n",
    "print(p1.age)\n",
    "print(p1.phno)"
   ]
  },
  {
   "cell_type": "code",
   "execution_count": 36,
   "metadata": {},
   "outputs": [
    {
     "name": "stdout",
     "output_type": "stream",
     "text": [
      "suzuki\n",
      "sports\n"
     ]
    }
   ],
   "source": [
    "class Car:\n",
    "    model= \"suzuki\"\n",
    "    type = \"sports\"\n",
    "    color = \"black\"\n",
    "c1 = Car()\n",
    "print(c1.model)\n",
    "print(c1.type)"
   ]
  },
  {
   "cell_type": "code",
   "execution_count": 37,
   "metadata": {},
   "outputs": [
    {
     "name": "stdout",
     "output_type": "stream",
     "text": [
      "john\n",
      "36\n"
     ]
    }
   ],
   "source": [
    "class Person:\n",
    "    def __init__(self, name , age):\n",
    "        self.name = name\n",
    "        self.age = age\n",
    "p1 = Person(\"john\" , 36)\n",
    "print(p1.name)\n",
    "print(p1.age)    "
   ]
  },
  {
   "cell_type": "code",
   "execution_count": 38,
   "metadata": {},
   "outputs": [
    {
     "name": "stdout",
     "output_type": "stream",
     "text": [
      "john(36)\n"
     ]
    }
   ],
   "source": [
    "class Person:\n",
    "    def __init__(self, name , age):\n",
    "        self.name = name\n",
    "        self.age = age\n",
    "    def __str__(self):\n",
    "        return f\"{self.name}({self.age})\"\n",
    "p1 = Person(\"john\" , 36)\n",
    "print(p1)"
   ]
  },
  {
   "cell_type": "code",
   "execution_count": 39,
   "metadata": {},
   "outputs": [
    {
     "name": "stdout",
     "output_type": "stream",
     "text": [
      "Hello my name is john\n"
     ]
    }
   ],
   "source": [
    "class Person:\n",
    "    def __init__(self, name , age):\n",
    "        self.name = name\n",
    "        self.age = age\n",
    "    def myfunc(self):\n",
    "        print(\"Hello my name is \"+self.name)\n",
    "p1 = Person(\"john\" , 36)\n",
    "p1.myfunc()"
   ]
  },
  {
   "cell_type": "code",
   "execution_count": 40,
   "metadata": {},
   "outputs": [
    {
     "name": "stdout",
     "output_type": "stream",
     "text": [
      "40\n"
     ]
    }
   ],
   "source": [
    "p1.age = 40\n",
    "print(p1.age)"
   ]
  },
  {
   "cell_type": "code",
   "execution_count": 41,
   "metadata": {},
   "outputs": [],
   "source": [
    "del p1.age"
   ]
  },
  {
   "cell_type": "code",
   "execution_count": 42,
   "metadata": {},
   "outputs": [],
   "source": [
    "del p1"
   ]
  },
  {
   "cell_type": "code",
   "execution_count": 43,
   "metadata": {},
   "outputs": [],
   "source": [
    "class Person:\n",
    "    pass"
   ]
  },
  {
   "cell_type": "code",
   "execution_count": 44,
   "metadata": {},
   "outputs": [
    {
     "name": "stdout",
     "output_type": "stream",
     "text": [
      "BMW black A3\n",
      "travelling\n"
     ]
    }
   ],
   "source": [
    "class car:\n",
    "    name=\"BMW\"\n",
    "    color=\"black\"\n",
    "    model = \"A3\"\n",
    "    def working(self):\n",
    "        print(\"travelling\")\n",
    "c1 = car()\n",
    "print(c1.name , c1.color , c1.model)\n",
    "c1.working()"
   ]
  },
  {
   "cell_type": "code",
   "execution_count": 45,
   "metadata": {},
   "outputs": [
    {
     "name": "stdout",
     "output_type": "stream",
     "text": [
      "team1 200k 10\n",
      "playing\n"
     ]
    }
   ],
   "source": [
    "class football:\n",
    "    teamname= \"default\"\n",
    "    budget = \"100k\"\n",
    "    rank = 0\n",
    "    def __str__(self):\n",
    "        return f\"{self.teamname} {self.budget} {self.rank}\"\n",
    "    def play(self):\n",
    "        print(\"playing\")\n",
    "t1 = football()\n",
    "t1.teamname = \"team1\"\n",
    "t1.budget= \"200k\"\n",
    "t1.rank= 10\n",
    "print(t1)\n",
    "t1.play()"
   ]
  },
  {
   "cell_type": "code",
   "execution_count": 46,
   "metadata": {},
   "outputs": [
    {
     "name": "stdout",
     "output_type": "stream",
     "text": [
      "team2 300k 11\n",
      "playing\n"
     ]
    }
   ],
   "source": [
    "t2 = football()\n",
    "t2.teamname = \"team2\"\n",
    "t2.budget= \"300k\"\n",
    "t2.rank= 11\n",
    "print(t2)\n",
    "t2.play()"
   ]
  },
  {
   "cell_type": "code",
   "execution_count": 47,
   "metadata": {},
   "outputs": [
    {
     "name": "stdout",
     "output_type": "stream",
     "text": [
      "10\n",
      "10\n"
     ]
    }
   ],
   "source": [
    "class c():\n",
    "    __i = 10\n",
    "    print(__i)\n",
    "    def f1(self):\n",
    "        print(self.__i)\n",
    "c1 = c()\n",
    "c1.f1()"
   ]
  },
  {
   "cell_type": "code",
   "execution_count": 48,
   "metadata": {},
   "outputs": [],
   "source": [
    "#print(c1.__i)   error"
   ]
  },
  {
   "cell_type": "code",
   "execution_count": 50,
   "metadata": {},
   "outputs": [
    {
     "name": "stdout",
     "output_type": "stream",
     "text": [
      "black\n",
      "A3\n",
      "BMW\n",
      "4\n"
     ]
    }
   ],
   "source": [
    "class bike(car):\n",
    "    wheels =4\n",
    "b = bike()\n",
    "print(b.color)\n",
    "print(b.model)\n",
    "print(b.name)\n",
    "print(b.wheels)"
   ]
  },
  {
   "cell_type": "code",
   "execution_count": 58,
   "metadata": {},
   "outputs": [
    {
     "name": "stdout",
     "output_type": "stream",
     "text": [
      "computer lab\n",
      "2000\n"
     ]
    }
   ],
   "source": [
    "from dataclasses import dataclass\n",
    "@dataclass\n",
    "class Employee:\n",
    "    name:str\n",
    "    dept:str\n",
    "    salary:int\n",
    "john = Employee('john' , 'computer lab', 2000)\n",
    "print(john.dept)\n",
    "print(john.salary)"
   ]
  },
  {
   "cell_type": "code",
   "execution_count": 65,
   "metadata": {},
   "outputs": [
    {
     "name": "stdout",
     "output_type": "stream",
     "text": [
      "one 1\n",
      "two 2\n"
     ]
    }
   ],
   "source": [
    "k ={'one':1, 'two':2}\n",
    "for key in k:\n",
    "    print(key , end=\" \")\n",
    "    print(k[key])"
   ]
  },
  {
   "cell_type": "code",
   "execution_count": 66,
   "metadata": {},
   "outputs": [
    {
     "name": "stdout",
     "output_type": "stream",
     "text": [
      "swati\n",
      "25\n"
     ]
    }
   ],
   "source": [
    "class Student:\n",
    "    _schoolName = 'XYZ School'\n",
    "    def __init__(self, name, age):\n",
    "        self._name=name  # protected instance attribute\n",
    "        self._age=age # protected instance attribute\n",
    "std = Student(\"swati\" , 25)\n",
    "print(std._name)\n",
    "print(std._age)"
   ]
  },
  {
   "cell_type": "code",
   "execution_count": 68,
   "metadata": {},
   "outputs": [
    {
     "name": "stdout",
     "output_type": "stream",
     "text": [
      "welcome\n",
      "inside the con\n",
      "10\n",
      "end\n"
     ]
    }
   ],
   "source": [
    "class c():\n",
    "    i = \"\"\n",
    "    def __init__(self , i):\n",
    "        print(\"inside the con\")\n",
    "        self.i = i\n",
    "        print(self.i)\n",
    "print(\"welcome\")\n",
    "c1 = c(10)\n",
    "print(\"end\")"
   ]
  },
  {
   "cell_type": "code",
   "execution_count": 75,
   "metadata": {},
   "outputs": [],
   "source": [
    "def reverse(data):\n",
    "    for index in range(len(data)-1, -1, -1 ):\n",
    "        yield data[index]"
   ]
  },
  {
   "cell_type": "code",
   "execution_count": 76,
   "metadata": {},
   "outputs": [
    {
     "name": "stdout",
     "output_type": "stream",
     "text": [
      "f\n",
      "l\n",
      "o\n",
      "g\n"
     ]
    }
   ],
   "source": [
    "for char in reverse('golf'):\n",
    "    print(char)"
   ]
  },
  {
   "cell_type": "code",
   "execution_count": 78,
   "metadata": {},
   "outputs": [
    {
     "name": "stdout",
     "output_type": "stream",
     "text": [
      "welcome\n",
      "inside the con\n",
      "10\n",
      "45\n",
      "<class 'int'>\n",
      "end\n"
     ]
    }
   ],
   "source": [
    "class c:\n",
    "    i =\"\"\n",
    "    def __init__(self, j):\n",
    "        print(\"inside the con\")\n",
    "        self.i = 10\n",
    "        print(self.i)\n",
    "        print(j)\n",
    "print(\"welcome\")\n",
    "c1 = c(45)\n",
    "print(type(c1.i))\n",
    "print(\"end\")"
   ]
  },
  {
   "cell_type": "code",
   "execution_count": 79,
   "metadata": {},
   "outputs": [
    {
     "name": "stdout",
     "output_type": "stream",
     "text": [
      "pk  welcome to con\n",
      "adi  welcome to con\n",
      "pk\n",
      "adi\n"
     ]
    }
   ],
   "source": [
    "class student:\n",
    "    name = \"\"\n",
    "    def __init__(self , name):\n",
    "        self.name = name\n",
    "        print(name , \" welcome to con\")\n",
    "s1 = student(\"pk\")\n",
    "s2 = student(\"adi\")\n",
    "print(s1.name)\n",
    "print(s2.name)"
   ]
  },
  {
   "cell_type": "code",
   "execution_count": 83,
   "metadata": {},
   "outputs": [
    {
     "name": "stdout",
     "output_type": "stream",
     "text": [
      "1\n",
      "2\n",
      "3\n"
     ]
    }
   ],
   "source": [
    "class student:\n",
    "    count = 0\n",
    "    def __init__(self):\n",
    "        student.count += 1\n",
    "        print(self.count)\n",
    "s1 = student()\n",
    "s2 = student()\n",
    "s3 = student()"
   ]
  },
  {
   "cell_type": "code",
   "execution_count": 84,
   "metadata": {},
   "outputs": [
    {
     "name": "stdout",
     "output_type": "stream",
     "text": [
      "1\n",
      "1\n",
      "1\n"
     ]
    }
   ],
   "source": [
    "class student:\n",
    "    count = 0\n",
    "    def __init__(self):\n",
    "        self.count += 1\n",
    "        print(self.count)\n",
    "s1 = student()\n",
    "s2 = student()\n",
    "s3 = student()"
   ]
  }
 ],
 "metadata": {
  "kernelspec": {
   "display_name": "Python 3",
   "language": "python",
   "name": "python3"
  },
  "language_info": {
   "codemirror_mode": {
    "name": "ipython",
    "version": 3
   },
   "file_extension": ".py",
   "mimetype": "text/x-python",
   "name": "python",
   "nbconvert_exporter": "python",
   "pygments_lexer": "ipython3",
   "version": "3.11.1"
  },
  "orig_nbformat": 4,
  "vscode": {
   "interpreter": {
    "hash": "8e9b982e80f18de49d8d2f94cb24489af2bcc1f5997f2210ea83dd922c69fa09"
   }
  }
 },
 "nbformat": 4,
 "nbformat_minor": 2
}
