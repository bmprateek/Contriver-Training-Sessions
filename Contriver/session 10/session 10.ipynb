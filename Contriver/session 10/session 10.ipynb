{
 "cells": [
  {
   "cell_type": "code",
   "execution_count": 2,
   "metadata": {},
   "outputs": [],
   "source": [
    "import pandas as pd"
   ]
  },
  {
   "cell_type": "code",
   "execution_count": 3,
   "metadata": {},
   "outputs": [
    {
     "name": "stdout",
     "output_type": "stream",
     "text": [
      "    cars  passings\n",
      "0    BMW         3\n",
      "1  Volvo         7\n",
      "2   Ford         2\n"
     ]
    }
   ],
   "source": [
    "mydataset = {\n",
    "  'cars': [\"BMW\", \"Volvo\", \"Ford\"],\n",
    "  'passings': [3, 7, 2]\n",
    "}\n",
    "\n",
    "myvar = pd.DataFrame(mydataset)\n",
    "\n",
    "print(myvar)"
   ]
  },
  {
   "cell_type": "code",
   "execution_count": 4,
   "metadata": {},
   "outputs": [
    {
     "name": "stdout",
     "output_type": "stream",
     "text": [
      "0    1\n",
      "1    7\n",
      "2    2\n",
      "dtype: int64\n"
     ]
    }
   ],
   "source": [
    "a = [1, 7, 2]\n",
    "\n",
    "myvar = pd.Series(a)\n",
    "\n",
    "print(myvar)"
   ]
  },
  {
   "cell_type": "code",
   "execution_count": 5,
   "metadata": {},
   "outputs": [
    {
     "name": "stdout",
     "output_type": "stream",
     "text": [
      "7\n"
     ]
    }
   ],
   "source": [
    "print(myvar[1])"
   ]
  },
  {
   "cell_type": "code",
   "execution_count": 6,
   "metadata": {},
   "outputs": [
    {
     "name": "stdout",
     "output_type": "stream",
     "text": [
      "x    1\n",
      "y    7\n",
      "z    2\n",
      "dtype: int64\n"
     ]
    }
   ],
   "source": [
    "a = [1, 7, 2]\n",
    "\n",
    "myvar = pd.Series(a, index = [\"x\", \"y\", \"z\"])\n",
    "\n",
    "print(myvar)"
   ]
  },
  {
   "cell_type": "code",
   "execution_count": 7,
   "metadata": {},
   "outputs": [
    {
     "name": "stdout",
     "output_type": "stream",
     "text": [
      "7\n"
     ]
    }
   ],
   "source": [
    "print(myvar[\"y\"])"
   ]
  },
  {
   "cell_type": "code",
   "execution_count": 8,
   "metadata": {},
   "outputs": [
    {
     "name": "stdout",
     "output_type": "stream",
     "text": [
      "day1    420\n",
      "day2    380\n",
      "day3    390\n",
      "dtype: int64\n"
     ]
    }
   ],
   "source": [
    "calories = {\"day1\": 420, \"day2\": 380, \"day3\": 390}\n",
    "\n",
    "myvar = pd.Series(calories)\n",
    "\n",
    "print(myvar)"
   ]
  },
  {
   "cell_type": "code",
   "execution_count": 9,
   "metadata": {},
   "outputs": [
    {
     "name": "stdout",
     "output_type": "stream",
     "text": [
      "day1    420\n",
      "day2    380\n",
      "dtype: int64\n"
     ]
    }
   ],
   "source": [
    "calories = {\"day1\": 420, \"day2\": 380, \"day3\": 390}\n",
    "\n",
    "myvar = pd.Series(calories, index = [\"day1\", \"day2\"])\n",
    "\n",
    "print(myvar)"
   ]
  },
  {
   "cell_type": "code",
   "execution_count": 10,
   "metadata": {},
   "outputs": [
    {
     "data": {
      "text/plain": [
       "0    1\n",
       "1    2\n",
       "2    3\n",
       "3    4\n",
       "dtype: int64"
      ]
     },
     "execution_count": 10,
     "metadata": {},
     "output_type": "execute_result"
    }
   ],
   "source": [
    "i = [1,2,3,4]\n",
    "pd.Series(i)"
   ]
  },
  {
   "cell_type": "code",
   "execution_count": 11,
   "metadata": {},
   "outputs": [
    {
     "name": "stdout",
     "output_type": "stream",
     "text": [
      "   calories  duration\n",
      "0       420        50\n",
      "1       380        40\n",
      "2       390        45\n"
     ]
    }
   ],
   "source": [
    "data = {\n",
    "  \"calories\": [420, 380, 390],\n",
    "  \"duration\": [50, 40, 45]\n",
    "}\n",
    "df = pd.DataFrame(data)\n",
    "print(df)"
   ]
  },
  {
   "cell_type": "code",
   "execution_count": 12,
   "metadata": {},
   "outputs": [
    {
     "data": {
      "text/plain": [
       "i      1\n",
       "ii     2\n",
       "iii    3\n",
       "iv     4\n",
       "v      5\n",
       "dtype: int64"
      ]
     },
     "execution_count": 12,
     "metadata": {},
     "output_type": "execute_result"
    }
   ],
   "source": [
    "i= [1 ,2 , 3, 4 , 5 ]\n",
    "pd.Series(i , index= ['i' ,'ii' , 'iii' , 'iv' , 'v'])"
   ]
  },
  {
   "cell_type": "code",
   "execution_count": 13,
   "metadata": {},
   "outputs": [
    {
     "name": "stdout",
     "output_type": "stream",
     "text": [
      "   calories  duration\n",
      "0       420        50\n",
      "1       380        40\n",
      "2       390        45\n"
     ]
    }
   ],
   "source": [
    "data = {\n",
    "  \"calories\": [420, 380, 390],\n",
    "  \"duration\": [50, 40, 45]\n",
    "}\n",
    "\n",
    "#load data into a DataFrame object:\n",
    "df = pd.DataFrame(data)\n",
    "\n",
    "print(df) "
   ]
  },
  {
   "cell_type": "code",
   "execution_count": 14,
   "metadata": {},
   "outputs": [
    {
     "name": "stdout",
     "output_type": "stream",
     "text": [
      "calories    420\n",
      "duration     50\n",
      "Name: 0, dtype: int64\n"
     ]
    }
   ],
   "source": [
    "print(df.loc[0])"
   ]
  },
  {
   "cell_type": "code",
   "execution_count": 15,
   "metadata": {},
   "outputs": [
    {
     "name": "stdout",
     "output_type": "stream",
     "text": [
      "   calories  duration\n",
      "0       420        50\n",
      "1       380        40\n"
     ]
    }
   ],
   "source": [
    "print(df.loc[[0,1]])"
   ]
  },
  {
   "cell_type": "code",
   "execution_count": 16,
   "metadata": {},
   "outputs": [
    {
     "name": "stdout",
     "output_type": "stream",
     "text": [
      "      calories  duration\n",
      "day1       420        50\n",
      "day2       380        40\n",
      "day3       390        45\n"
     ]
    }
   ],
   "source": [
    "\n",
    "data = {\n",
    "  \"calories\": [420, 380, 390],\n",
    "  \"duration\": [50, 40, 45]\n",
    "}\n",
    "\n",
    "df = pd.DataFrame(data , index = ['day1' , 'day2' , 'day3'])\n",
    "\n",
    "print(df) "
   ]
  },
  {
   "cell_type": "code",
   "execution_count": 17,
   "metadata": {},
   "outputs": [],
   "source": [
    "data = pd.read_excel('sample1.xlsx')"
   ]
  },
  {
   "cell_type": "code",
   "execution_count": 23,
   "metadata": {},
   "outputs": [
    {
     "name": "stdout",
     "output_type": "stream",
     "text": [
      "     Postcode  Sales_Rep_ID Sales_Rep_Name  Year         Value\n",
      "0        2121           456           Jane  2011  84219.497311\n",
      "1        2092           789         Ashish  2012  28322.192268\n",
      "2        2128           456           Jane  2013  81878.997241\n",
      "3        2073           123           John  2011  44491.142121\n",
      "4        2134           789         Ashish  2012  71837.720959\n",
      "..        ...           ...            ...   ...           ...\n",
      "385      2164           123           John  2012  88884.535217\n",
      "386      2193           456           Jane  2013  79440.290813\n",
      "387      2031           123           John  2011  65643.689454\n",
      "388      2130           456           Jane  2012  66247.874869\n",
      "389      2116           456           Jane  2013   3195.699054\n",
      "\n",
      "[390 rows x 5 columns]\n"
     ]
    }
   ],
   "source": [
    "print(data)"
   ]
  },
  {
   "cell_type": "code",
   "execution_count": 27,
   "metadata": {},
   "outputs": [
    {
     "name": "stdout",
     "output_type": "stream",
     "text": [
      "60\n"
     ]
    }
   ],
   "source": [
    "print(pd.options.display.max_rows)"
   ]
  },
  {
   "cell_type": "code",
   "execution_count": 32,
   "metadata": {},
   "outputs": [],
   "source": [
    "pd.options.display.max_rows = 100"
   ]
  },
  {
   "cell_type": "code",
   "execution_count": 33,
   "metadata": {},
   "outputs": [
    {
     "data": {
      "text/html": [
       "<div>\n",
       "<style scoped>\n",
       "    .dataframe tbody tr th:only-of-type {\n",
       "        vertical-align: middle;\n",
       "    }\n",
       "\n",
       "    .dataframe tbody tr th {\n",
       "        vertical-align: top;\n",
       "    }\n",
       "\n",
       "    .dataframe thead th {\n",
       "        text-align: right;\n",
       "    }\n",
       "</style>\n",
       "<table border=\"1\" class=\"dataframe\">\n",
       "  <thead>\n",
       "    <tr style=\"text-align: right;\">\n",
       "      <th></th>\n",
       "      <th>Postcode</th>\n",
       "      <th>Sales_Rep_ID</th>\n",
       "      <th>Sales_Rep_Name</th>\n",
       "      <th>Year</th>\n",
       "      <th>Value</th>\n",
       "    </tr>\n",
       "  </thead>\n",
       "  <tbody>\n",
       "    <tr>\n",
       "      <th>0</th>\n",
       "      <td>2121</td>\n",
       "      <td>456</td>\n",
       "      <td>Jane</td>\n",
       "      <td>2011</td>\n",
       "      <td>84219.497311</td>\n",
       "    </tr>\n",
       "    <tr>\n",
       "      <th>1</th>\n",
       "      <td>2092</td>\n",
       "      <td>789</td>\n",
       "      <td>Ashish</td>\n",
       "      <td>2012</td>\n",
       "      <td>28322.192268</td>\n",
       "    </tr>\n",
       "    <tr>\n",
       "      <th>2</th>\n",
       "      <td>2128</td>\n",
       "      <td>456</td>\n",
       "      <td>Jane</td>\n",
       "      <td>2013</td>\n",
       "      <td>81878.997241</td>\n",
       "    </tr>\n",
       "    <tr>\n",
       "      <th>3</th>\n",
       "      <td>2073</td>\n",
       "      <td>123</td>\n",
       "      <td>John</td>\n",
       "      <td>2011</td>\n",
       "      <td>44491.142121</td>\n",
       "    </tr>\n",
       "    <tr>\n",
       "      <th>4</th>\n",
       "      <td>2134</td>\n",
       "      <td>789</td>\n",
       "      <td>Ashish</td>\n",
       "      <td>2012</td>\n",
       "      <td>71837.720959</td>\n",
       "    </tr>\n",
       "    <tr>\n",
       "      <th>5</th>\n",
       "      <td>2162</td>\n",
       "      <td>123</td>\n",
       "      <td>John</td>\n",
       "      <td>2013</td>\n",
       "      <td>64531.549254</td>\n",
       "    </tr>\n",
       "    <tr>\n",
       "      <th>6</th>\n",
       "      <td>2093</td>\n",
       "      <td>456</td>\n",
       "      <td>Jane</td>\n",
       "      <td>2011</td>\n",
       "      <td>58962.639832</td>\n",
       "    </tr>\n",
       "    <tr>\n",
       "      <th>7</th>\n",
       "      <td>2042</td>\n",
       "      <td>789</td>\n",
       "      <td>Ashish</td>\n",
       "      <td>2012</td>\n",
       "      <td>27521.791964</td>\n",
       "    </tr>\n",
       "    <tr>\n",
       "      <th>8</th>\n",
       "      <td>2198</td>\n",
       "      <td>123</td>\n",
       "      <td>John</td>\n",
       "      <td>2013</td>\n",
       "      <td>77985.126101</td>\n",
       "    </tr>\n",
       "    <tr>\n",
       "      <th>9</th>\n",
       "      <td>2043</td>\n",
       "      <td>789</td>\n",
       "      <td>Ashish</td>\n",
       "      <td>2011</td>\n",
       "      <td>49546.123317</td>\n",
       "    </tr>\n",
       "    <tr>\n",
       "      <th>10</th>\n",
       "      <td>2025</td>\n",
       "      <td>789</td>\n",
       "      <td>Ashish</td>\n",
       "      <td>2012</td>\n",
       "      <td>17733.774600</td>\n",
       "    </tr>\n",
       "    <tr>\n",
       "      <th>11</th>\n",
       "      <td>2045</td>\n",
       "      <td>456</td>\n",
       "      <td>Jane</td>\n",
       "      <td>2013</td>\n",
       "      <td>91125.995923</td>\n",
       "    </tr>\n",
       "    <tr>\n",
       "      <th>12</th>\n",
       "      <td>2090</td>\n",
       "      <td>456</td>\n",
       "      <td>Jane</td>\n",
       "      <td>2011</td>\n",
       "      <td>48112.764779</td>\n",
       "    </tr>\n",
       "    <tr>\n",
       "      <th>13</th>\n",
       "      <td>2114</td>\n",
       "      <td>456</td>\n",
       "      <td>Jane</td>\n",
       "      <td>2012</td>\n",
       "      <td>28361.338391</td>\n",
       "    </tr>\n",
       "    <tr>\n",
       "      <th>14</th>\n",
       "      <td>2142</td>\n",
       "      <td>456</td>\n",
       "      <td>Jane</td>\n",
       "      <td>2013</td>\n",
       "      <td>50911.554905</td>\n",
       "    </tr>\n",
       "    <tr>\n",
       "      <th>15</th>\n",
       "      <td>2062</td>\n",
       "      <td>123</td>\n",
       "      <td>John</td>\n",
       "      <td>2011</td>\n",
       "      <td>75538.869741</td>\n",
       "    </tr>\n",
       "    <tr>\n",
       "      <th>16</th>\n",
       "      <td>2049</td>\n",
       "      <td>456</td>\n",
       "      <td>Jane</td>\n",
       "      <td>2012</td>\n",
       "      <td>96922.328345</td>\n",
       "    </tr>\n",
       "    <tr>\n",
       "      <th>17</th>\n",
       "      <td>2204</td>\n",
       "      <td>456</td>\n",
       "      <td>Jane</td>\n",
       "      <td>2013</td>\n",
       "      <td>57838.175024</td>\n",
       "    </tr>\n",
       "    <tr>\n",
       "      <th>18</th>\n",
       "      <td>2000</td>\n",
       "      <td>456</td>\n",
       "      <td>Jane</td>\n",
       "      <td>2011</td>\n",
       "      <td>4529.748564</td>\n",
       "    </tr>\n",
       "    <tr>\n",
       "      <th>19</th>\n",
       "      <td>2135</td>\n",
       "      <td>123</td>\n",
       "      <td>John</td>\n",
       "      <td>2012</td>\n",
       "      <td>27761.119322</td>\n",
       "    </tr>\n",
       "  </tbody>\n",
       "</table>\n",
       "</div>"
      ],
      "text/plain": [
       "    Postcode  Sales_Rep_ID Sales_Rep_Name  Year         Value\n",
       "0       2121           456           Jane  2011  84219.497311\n",
       "1       2092           789         Ashish  2012  28322.192268\n",
       "2       2128           456           Jane  2013  81878.997241\n",
       "3       2073           123           John  2011  44491.142121\n",
       "4       2134           789         Ashish  2012  71837.720959\n",
       "5       2162           123           John  2013  64531.549254\n",
       "6       2093           456           Jane  2011  58962.639832\n",
       "7       2042           789         Ashish  2012  27521.791964\n",
       "8       2198           123           John  2013  77985.126101\n",
       "9       2043           789         Ashish  2011  49546.123317\n",
       "10      2025           789         Ashish  2012  17733.774600\n",
       "11      2045           456           Jane  2013  91125.995923\n",
       "12      2090           456           Jane  2011  48112.764779\n",
       "13      2114           456           Jane  2012  28361.338391\n",
       "14      2142           456           Jane  2013  50911.554905\n",
       "15      2062           123           John  2011  75538.869741\n",
       "16      2049           456           Jane  2012  96922.328345\n",
       "17      2204           456           Jane  2013  57838.175024\n",
       "18      2000           456           Jane  2011   4529.748564\n",
       "19      2135           123           John  2012  27761.119322"
      ]
     },
     "execution_count": 33,
     "metadata": {},
     "output_type": "execute_result"
    }
   ],
   "source": [
    "data.head(20)"
   ]
  },
  {
   "cell_type": "code",
   "execution_count": 34,
   "metadata": {},
   "outputs": [
    {
     "data": {
      "text/html": [
       "<div>\n",
       "<style scoped>\n",
       "    .dataframe tbody tr th:only-of-type {\n",
       "        vertical-align: middle;\n",
       "    }\n",
       "\n",
       "    .dataframe tbody tr th {\n",
       "        vertical-align: top;\n",
       "    }\n",
       "\n",
       "    .dataframe thead th {\n",
       "        text-align: right;\n",
       "    }\n",
       "</style>\n",
       "<table border=\"1\" class=\"dataframe\">\n",
       "  <thead>\n",
       "    <tr style=\"text-align: right;\">\n",
       "      <th></th>\n",
       "      <th>Postcode</th>\n",
       "      <th>Sales_Rep_ID</th>\n",
       "      <th>Sales_Rep_Name</th>\n",
       "      <th>Year</th>\n",
       "      <th>Value</th>\n",
       "    </tr>\n",
       "  </thead>\n",
       "  <tbody>\n",
       "    <tr>\n",
       "      <th>0</th>\n",
       "      <td>2121</td>\n",
       "      <td>456</td>\n",
       "      <td>Jane</td>\n",
       "      <td>2011</td>\n",
       "      <td>84219.497311</td>\n",
       "    </tr>\n",
       "    <tr>\n",
       "      <th>1</th>\n",
       "      <td>2092</td>\n",
       "      <td>789</td>\n",
       "      <td>Ashish</td>\n",
       "      <td>2012</td>\n",
       "      <td>28322.192268</td>\n",
       "    </tr>\n",
       "    <tr>\n",
       "      <th>2</th>\n",
       "      <td>2128</td>\n",
       "      <td>456</td>\n",
       "      <td>Jane</td>\n",
       "      <td>2013</td>\n",
       "      <td>81878.997241</td>\n",
       "    </tr>\n",
       "    <tr>\n",
       "      <th>3</th>\n",
       "      <td>2073</td>\n",
       "      <td>123</td>\n",
       "      <td>John</td>\n",
       "      <td>2011</td>\n",
       "      <td>44491.142121</td>\n",
       "    </tr>\n",
       "    <tr>\n",
       "      <th>4</th>\n",
       "      <td>2134</td>\n",
       "      <td>789</td>\n",
       "      <td>Ashish</td>\n",
       "      <td>2012</td>\n",
       "      <td>71837.720959</td>\n",
       "    </tr>\n",
       "    <tr>\n",
       "      <th>...</th>\n",
       "      <td>...</td>\n",
       "      <td>...</td>\n",
       "      <td>...</td>\n",
       "      <td>...</td>\n",
       "      <td>...</td>\n",
       "    </tr>\n",
       "    <tr>\n",
       "      <th>385</th>\n",
       "      <td>2164</td>\n",
       "      <td>123</td>\n",
       "      <td>John</td>\n",
       "      <td>2012</td>\n",
       "      <td>88884.535217</td>\n",
       "    </tr>\n",
       "    <tr>\n",
       "      <th>386</th>\n",
       "      <td>2193</td>\n",
       "      <td>456</td>\n",
       "      <td>Jane</td>\n",
       "      <td>2013</td>\n",
       "      <td>79440.290813</td>\n",
       "    </tr>\n",
       "    <tr>\n",
       "      <th>387</th>\n",
       "      <td>2031</td>\n",
       "      <td>123</td>\n",
       "      <td>John</td>\n",
       "      <td>2011</td>\n",
       "      <td>65643.689454</td>\n",
       "    </tr>\n",
       "    <tr>\n",
       "      <th>388</th>\n",
       "      <td>2130</td>\n",
       "      <td>456</td>\n",
       "      <td>Jane</td>\n",
       "      <td>2012</td>\n",
       "      <td>66247.874869</td>\n",
       "    </tr>\n",
       "    <tr>\n",
       "      <th>389</th>\n",
       "      <td>2116</td>\n",
       "      <td>456</td>\n",
       "      <td>Jane</td>\n",
       "      <td>2013</td>\n",
       "      <td>3195.699054</td>\n",
       "    </tr>\n",
       "  </tbody>\n",
       "</table>\n",
       "<p>390 rows × 5 columns</p>\n",
       "</div>"
      ],
      "text/plain": [
       "     Postcode  Sales_Rep_ID Sales_Rep_Name  Year         Value\n",
       "0        2121           456           Jane  2011  84219.497311\n",
       "1        2092           789         Ashish  2012  28322.192268\n",
       "2        2128           456           Jane  2013  81878.997241\n",
       "3        2073           123           John  2011  44491.142121\n",
       "4        2134           789         Ashish  2012  71837.720959\n",
       "..        ...           ...            ...   ...           ...\n",
       "385      2164           123           John  2012  88884.535217\n",
       "386      2193           456           Jane  2013  79440.290813\n",
       "387      2031           123           John  2011  65643.689454\n",
       "388      2130           456           Jane  2012  66247.874869\n",
       "389      2116           456           Jane  2013   3195.699054\n",
       "\n",
       "[390 rows x 5 columns]"
      ]
     },
     "execution_count": 34,
     "metadata": {},
     "output_type": "execute_result"
    }
   ],
   "source": [
    "pd.DataFrame(data)"
   ]
  },
  {
   "cell_type": "code",
   "execution_count": 35,
   "metadata": {},
   "outputs": [
    {
     "name": "stdout",
     "output_type": "stream",
     "text": [
      "   postcode  Sales_rep_Id sales_rep_name\n",
      "0      2121           234           tina\n",
      "1      2091           456            mia\n",
      "2      3987           789         paxton\n",
      "3      7665           123           devi\n",
      "{'postcode': [2121, 2091, 3987, 7665], 'Sales_rep_Id': [234, 456, 789, 123], 'sales_rep_name': ['tina', 'mia', 'paxton', 'devi']}\n"
     ]
    }
   ],
   "source": [
    "d = {'postcode':[2121 , 2091 , 3987 , 7665] ,\n",
    " 'Sales_rep_Id':[234,456,789 , 123],\n",
    " 'sales_rep_name':['tina' , 'mia' , 'paxton' , 'devi']}\n",
    "df = pd.DataFrame(d)\n",
    "print(df)\n",
    "print(d)"
   ]
  },
  {
   "cell_type": "code",
   "execution_count": 47,
   "metadata": {},
   "outputs": [
    {
     "name": "stdout",
     "output_type": "stream",
     "text": [
      "   postcode  Sales_rep_Id sales_rep_name\n",
      "0      2121           234           tina\n",
      "1      2091           456            mia\n",
      "2      3987           789         paxton\n",
      "3      7665           123           devi\n"
     ]
    }
   ],
   "source": [
    "d = {'postcode':[2121 , 2091 , 3987 , 7665] ,\n",
    " 'Sales_rep_Id':[234,456,789 , 123],\n",
    " 'sales_rep_name':['tina' , 'mia' , 'paxton' , 'devi']}\n",
    "df = pd.DataFrame(d)\n",
    "print(df)\n",
    "writer= pd.ExcelWriter(\"demo.xlsx\" , engine=\"xlsxwriter\")\n",
    "df.to_excel(writer , sheet_name='sheet1' , index='False')\n"
   ]
  },
  {
   "cell_type": "code",
   "execution_count": 48,
   "metadata": {},
   "outputs": [],
   "source": [
    "df.to_excel(writer , sheet_name='sheet2' , index='False')\n",
    "writer.close()"
   ]
  },
  {
   "cell_type": "code",
   "execution_count": 49,
   "metadata": {},
   "outputs": [
    {
     "name": "stdout",
     "output_type": "stream",
     "text": [
      "      Actor Name  Age Career status\n",
      "0            Srk   57        Acting\n",
      "1             Hr   49        Acting\n",
      "2     Tom Cruise   60        Acting\n",
      "3      Brad pitt   59        Acting\n",
      "4  Ranveer singh   37        Acting\n"
     ]
    }
   ],
   "source": [
    "data = {'Actor Name' : ['Srk' , 'Hr' , 'Tom Cruise' , 'Brad pitt' , 'Ranveer singh'],\n",
    "'Age':[57 , 49 , 60 , 59 , 37], 'Career status':['Acting','Acting','Acting','Acting','Acting']}\n",
    "df = pd.DataFrame(data)\n",
    "print(df)\n",
    "writer = pd.ExcelWriter(\"actors.xlsx\" , engine='xlsxwriter')\n",
    "df.to_excel(writer , sheet_name='sheet1' , index='False')\n",
    "writer.close()"
   ]
  },
  {
   "cell_type": "code",
   "execution_count": 51,
   "metadata": {},
   "outputs": [],
   "source": [
    "import openpyxl\n",
    "wb = openpyxl.load_workbook('actors.xlsx')\n",
    "sh = wb.active"
   ]
  },
  {
   "cell_type": "code",
   "execution_count": 54,
   "metadata": {},
   "outputs": [
    {
     "name": "stdout",
     "output_type": "stream",
     "text": [
      "1\n"
     ]
    }
   ],
   "source": [
    "c1 = sh['A3']\n",
    "print(c1.value)"
   ]
  },
  {
   "cell_type": "code",
   "execution_count": 61,
   "metadata": {},
   "outputs": [
    {
     "name": "stdout",
     "output_type": "stream",
     "text": [
      "None\n",
      "0\n",
      "1\n",
      "2\n",
      "3\n",
      "4\n",
      "\n",
      "\n",
      "Actor Name\n",
      "Srk\n",
      "Hr\n",
      "Tom Cruise\n",
      "Brad pitt\n",
      "Ranveer singh\n",
      "\n",
      "\n",
      "Age\n",
      "57\n",
      "49\n",
      "60\n",
      "59\n",
      "37\n",
      "\n",
      "\n",
      "Career status\n",
      "Acting\n",
      "Acting\n",
      "Acting\n",
      "Acting\n",
      "Acting\n",
      "\n",
      "\n"
     ]
    }
   ],
   "source": [
    "import openpyxl\n",
    "wb = openpyxl.load_workbook('actors.xlsx')\n",
    "sh = wb.active\n",
    "for x in ['A' , 'B' , 'C' , 'D']:\n",
    "    for y in range(1, 7):\n",
    "        c1 = sh[x+str(y)]\n",
    "        print(c1.value)\n",
    "    print('\\n')"
   ]
  },
  {
   "attachments": {},
   "cell_type": "markdown",
   "metadata": {},
   "source": [
    "Linear Regression"
   ]
  },
  {
   "cell_type": "code",
   "execution_count": 69,
   "metadata": {},
   "outputs": [
    {
     "name": "stdout",
     "output_type": "stream",
     "text": [
      "[94.3495217071376, 90.84694628403238, 89.09565857247976, 90.84694628403238, 99.60338484179543, 73.33406916850626, 99.60338484179543, 87.34437086092716, 96.10080941869022, 83.84179543782193, 82.09050772626932, 87.34437086092716, 92.59823399558499]\n"
     ]
    },
    {
     "data": {
      "image/png": "[encoded data removed]",
      "text/plain": [
       "<Figure size 640x480 with 1 Axes>"
      ]
     },
     "metadata": {},
     "output_type": "display_data"
    }
   ],
   "source": [
    "import numpy as np\n",
    "import matplotlib.pyplot as plt\n",
    "from scipy import stats\n",
    "import random\n",
    "x = [5,7,8,7,2,17,2,9,4,11,12,9,6]\n",
    "y = [99,86,87,88,111,86,103,87,94,78,77,85,86]\n",
    "slope, intercept , r , p , std_err = stats.linregress(x , y)\n",
    "def myfunc(x):\n",
    "    return slope*x+intercept\n",
    "mymodel = list(map(myfunc , x))\n",
    "print(mymodel)\n",
    "plt.scatter(x,y)\n",
    "plt.plot(x,mymodel)\n",
    "plt.show()\n"
   ]
  },
  {
   "cell_type": "code",
   "execution_count": 74,
   "metadata": {},
   "outputs": [
    {
     "data": {
      "image/png": "[encoded data removed]",
      "text/plain": [
       "<Figure size 640x480 with 1 Axes>"
      ]
     },
     "metadata": {},
     "output_type": "display_data"
    }
   ],
   "source": [
    "import numpy as np\n",
    "import matplotlib.pyplot as plt\n",
    "from scipy import stats\n",
    "x = np.arange(0,10 , 2)\n",
    "y = x**2\n",
    "slope , intercept , r , p , std_err = stats.linregress(x , y)\n",
    "def myfunc(x):\n",
    "    return slope*x + intercept\n",
    "mymodel = list(map(myfunc , x))\n",
    "plt.scatter(x,y)\n",
    "plt.plot(x,mymodel)\n",
    "plt.show()\n"
   ]
  },
  {
   "cell_type": "code",
   "execution_count": 80,
   "metadata": {},
   "outputs": [
    {
     "data": {
      "image/png": "[encoded data removed]",
      "text/plain": [
       "<Figure size 640x480 with 1 Axes>"
      ]
     },
     "metadata": {},
     "output_type": "display_data"
    }
   ],
   "source": [
    "import numpy as np\n",
    "import matplotlib.pyplot as plt\n",
    "np.random.seed(4)\n",
    "\n",
    "x = np.random.normal(3.0 , 1.1 , 1000)\n",
    "y = np.random.normal(50.0 , 10.1 , 1000)\n",
    "plt.scatter(x , y)\n",
    "plt.show()\n"
   ]
  },
  {
   "cell_type": "code",
   "execution_count": 81,
   "metadata": {},
   "outputs": [
    {
     "data": {
      "image/png": "[encoded data removed]",
      "text/plain": [
       "<Figure size 640x480 with 1 Axes>"
      ]
     },
     "metadata": {},
     "output_type": "display_data"
    }
   ],
   "source": [
    "import numpy as np\n",
    "import matplotlib.pyplot as plt\n",
    "\n",
    "\n",
    "a = np.array(x)\n",
    "b = np.array(y)\n",
    "p = np.poly1d(np.polyfit(a,b,9))\n",
    "xp = np.linspace(x,y)\n",
    "plt.plot(xp, p(xp) , c='b')\n",
    "plt.show()\n"
   ]
  }
 ],
 "metadata": {
  "kernelspec": {
   "display_name": "Python 3",
   "language": "python",
   "name": "python3"
  },
  "language_info": {
   "codemirror_mode": {
    "name": "ipython",
    "version": 3
   },
   "file_extension": ".py",
   "mimetype": "text/x-python",
   "name": "python",
   "nbconvert_exporter": "python",
   "pygments_lexer": "ipython3",
   "version": "3.11.1"
  },
  "orig_nbformat": 4,
  "vscode": {
   "interpreter": {
    "hash": "8e9b982e80f18de49d8d2f94cb24489af2bcc1f5997f2210ea83dd922c69fa09"
   }
  }
 },
 "nbformat": 4,
 "nbformat_minor": 2
}
